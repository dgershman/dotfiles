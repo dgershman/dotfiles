{
 "cells": [
  {
   "cell_type": "code",
   "execution_count": 10,
   "metadata": {
    "collapsed": true
   },
   "outputs": [],
   "source": [
    "import dns.resolver\n",
    "\n",
    "resolver = dns.resolver.Resolver()"
   ]
  },
  {
   "cell_type": "code",
   "execution_count": 57,
   "metadata": {},
   "outputs": [],
   "source": [
    "def returnDNSResponse(hostname):\n",
    "    print hostname\n",
    "    dns_record_types = ['A', 'CNAME', 'AAAA']\n",
    "    found = []\n",
    "    \n",
    "    for dns_record_type in dns_record_types:\n",
    "        print dns_record_type\n",
    "        try:\n",
    "            return { 'results': resolver.query(hostname, dns_record_type), 'dns_type': dns_record_type }\n",
    "        except:\n",
    "            found = { 'results': [], 'dns_type': None }\n",
    "            \n",
    "\n",
    "    return found"
   ]
  },
  {
   "cell_type": "code",
   "execution_count": 58,
   "metadata": {},
   "outputs": [
    {
     "name": "stdout",
     "output_type": "stream",
     "text": [
      "rinc.net\n",
      "A\n",
      "CNAME\n",
      "AAAA\n",
      "www.rinc.net\n",
      "A\n",
      "184.107.221.178\n"
     ]
    }
   ],
   "source": [
    "response1 = returnDNSResponse('rinc.net')\n",
    "if response1['dns_type'] is not None:\n",
    "    print response1['results'][0]\n",
    "else:\n",
    "    response2 = returnDNSResponse('www.rinc.net')\n",
    "    print response2['results'][0]"
   ]
  },
  {
   "cell_type": "code",
   "execution_count": null,
   "metadata": {
    "collapsed": true
   },
   "outputs": [],
   "source": []
  },
  {
   "cell_type": "code",
   "execution_count": null,
   "metadata": {
    "collapsed": true
   },
   "outputs": [],
   "source": []
  }
 ],
 "metadata": {
  "kernelspec": {
   "display_name": "Python 2",
   "language": "python",
   "name": "python2"
  },
  "language_info": {
   "codemirror_mode": {
    "name": "ipython",
    "version": 2
   },
   "file_extension": ".py",
   "mimetype": "text/x-python",
   "name": "python",
   "nbconvert_exporter": "python",
   "pygments_lexer": "ipython2",
   "version": "2.7.13"
  }
 },
 "nbformat": 4,
 "nbformat_minor": 2
}
